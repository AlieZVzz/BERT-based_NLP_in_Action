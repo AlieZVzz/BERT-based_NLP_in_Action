{
 "cells": [
  {
   "cell_type": "code",
   "execution_count": 12,
   "metadata": {},
   "outputs": [],
   "source": [
    "import torch\n",
    "import torchtext.legacy.data\n",
    "from torchtext import data, datasets\n",
    "import random\n",
    "\n",
    "TEXT = torchtext.legacy.data.Field(tokenize='spacy', lower=True, tokenizer_language='en_core_web_sm')\n",
    "LABEL = torchtext.legacy.data.LabelField(dtype=torch.float)\n",
    "\n",
    "train_data, test_data = torchtext.legacy.datasets.IMDB.splits(text_field=TEXT, label_field=LABEL)\n",
    "\n",
    "train_data, valid_data = train_data.split(random_state=random.seed(1234))\n",
    "\n",
    "TEXT.build_vocab(train_data, max_size=25000, vectors='glove.6B.100d', unk_init=torch.Tensor.normal_)\n",
    "LABEL.build_vocab(train_data)"
   ]
  },
  {
   "cell_type": "code",
   "execution_count": 13,
   "metadata": {},
   "outputs": [],
   "source": [
    "batch_size = 32\n",
    "device = torch.device('cuda' if torch.cuda.is_available() else 'cpu')\n",
    "\n",
    "train_iter, valid_iter, test_iter = torchtext.legacy.data.BucketIterator.splits((train_data, valid_data, test_data),\n",
    "                                                                                batch_size=batch_size, device=device)"
   ]
  },
  {
   "cell_type": "code",
   "execution_count": 2,
   "metadata": {},
   "outputs": [
    {
     "data": {
      "text/plain": [
       "torch.Size([25002, 100])"
      ]
     },
     "execution_count": 2,
     "metadata": {},
     "output_type": "execute_result"
    }
   ],
   "source": [
    "TEXT.vocab.vectors.size()"
   ]
  },
  {
   "cell_type": "code",
   "execution_count": 3,
   "metadata": {},
   "outputs": [
    {
     "name": "stdout",
     "output_type": "stream",
     "text": [
      "cuda.device_count 1\n"
     ]
    }
   ],
   "source": [
    "device_count = torch.cuda.device_count()\n",
    "print('cuda.device_count', device_count)"
   ]
  },
  {
   "cell_type": "code",
   "execution_count": 4,
   "metadata": {},
   "outputs": [
    {
     "data": {
      "text/plain": [
       "['neg', 'pos']"
      ]
     },
     "execution_count": 4,
     "metadata": {},
     "output_type": "execute_result"
    }
   ],
   "source": [
    "LABEL.vocab.itos[:]"
   ]
  },
  {
   "cell_type": "code",
   "execution_count": 6,
   "metadata": {},
   "outputs": [],
   "source": [
    "import torch.nn as nn\n",
    "import torch.nn.functional as F\n",
    "class Mish(nn.Module):#Mish激活函数\n",
    "    def __init__(self):\n",
    "        super().__init__()\n",
    "        print(\"Mish activation loaded...\")\n",
    "    def forward(self,x):\n",
    "        x = x * (torch.tanh(F.softplus(x)))\n",
    "        return x"
   ]
  },
  {
   "cell_type": "code",
   "execution_count": 9,
   "metadata": {},
   "outputs": [],
   "source": [
    "class TextCNN(nn.Module):\n",
    "    def __init__(self, vocab_size, embedding_dim, n_filters, filter_sizes, output_dim, \n",
    "                 dropout, pad_idx):\n",
    "        super().__init__()\n",
    "        self.embedding = nn.Embedding(vocab_size, embedding_dim, padding_idx = pad_idx)\n",
    "        self.convs = nn.ModuleList([ \n",
    "                                    nn.Conv2d(in_channels = 1, \n",
    "                                              out_channels = n_filters, \n",
    "                                              kernel_size = (fs, embedding_dim)) \n",
    "                                    for fs in filter_sizes\n",
    "                                    ])  #########注意不能用list\n",
    "        self.fc = nn.Linear(len(filter_sizes) * n_filters, output_dim)\n",
    "        self.dropout = nn.Dropout(dropout)\n",
    "        self.mish = Mish()\n",
    "        \n",
    "    def forward(self, text): #输入形状为[sent len, batch size]\n",
    "\n",
    "        text = text.permute(1, 0)#将形状变为[batch size, sent len]\n",
    "\n",
    "        embedded = self.embedding(text)#形状为[batch size, sent len, emb dim]\n",
    "\n",
    "        embedded = embedded.unsqueeze(1) #形状为[batch size, 1, sent len, emb dim]\n",
    "        #len(filter_sizes)个元素，每个元素形状为[batch size, n_filters, sent len - filter_sizes[n] + 1]\n",
    "        conved = [self.mish(conv(embedded)).squeeze(3) for conv in self.convs]\n",
    "\n",
    "        #len(filter_sizes)个元素，每个元素形状为[batch size, n_filters]\n",
    "        pooled = [F.max_pool1d(conv, conv.shape[2]).squeeze(2) for conv in conved]\n",
    "        \n",
    "        cat = self.dropout(torch.cat(pooled, dim = 1))#形状为[batch size, n_filters * len(filter_sizes)]\n",
    "\n",
    "        return self.fc(cat)\n"
   ]
  },
  {
   "cell_type": "code",
   "execution_count": 14,
   "metadata": {},
   "outputs": [
    {
     "name": "stdout",
     "output_type": "stream",
     "text": [
      "Mish activation loaded...\n",
      "Epoch: 01 | Epoch Time: 1m 0s\n",
      "\tTrain Loss: 0.433 | Train Acc: 79.19%\n",
      "\t Val. Loss: 0.309 |  Val. Acc: 87.03%\n",
      "Epoch: 02 | Epoch Time: 0m 59s\n",
      "\tTrain Loss: 0.232 | Train Acc: 90.77%\n",
      "\t Val. Loss: 0.355 |  Val. Acc: 86.02%\n",
      "Epoch: 03 | Epoch Time: 0m 59s\n",
      "\tTrain Loss: 0.132 | Train Acc: 94.98%\n",
      "\t Val. Loss: 0.362 |  Val. Acc: 87.95%\n",
      "Epoch: 04 | Epoch Time: 0m 59s\n",
      "\tTrain Loss: 0.076 | Train Acc: 97.42%\n",
      "\t Val. Loss: 0.489 |  Val. Acc: 87.61%\n",
      "Epoch: 05 | Epoch Time: 0m 58s\n",
      "\tTrain Loss: 0.056 | Train Acc: 98.18%\n",
      "\t Val. Loss: 0.604 |  Val. Acc: 87.12%\n",
      "Test Loss: 0.302 | Test Acc: 86.99%\n"
     ]
    }
   ],
   "source": [
    "#################\n",
    "import time        \n",
    "if __name__ == '__main__':   \n",
    "\n",
    "    INPUT_DIM = len(TEXT.vocab)#25002\n",
    "    EMBEDDING_DIM = TEXT.vocab.vectors.size()[1] #100 \n",
    "    N_FILTERS = 100\n",
    "    FILTER_SIZES = [3,4,5]\n",
    "    OUTPUT_DIM = 1\n",
    "    DROPOUT = 0.5\n",
    "    PAD_IDX = TEXT.vocab.stoi[TEXT.pad_token]\n",
    "    \n",
    "    model = TextCNN(INPUT_DIM, EMBEDDING_DIM, N_FILTERS, FILTER_SIZES, OUTPUT_DIM, DROPOUT, PAD_IDX)\n",
    "      \n",
    "    ####################################       \n",
    "    #复制词向量\n",
    "    model.embedding.weight.data.copy_(TEXT.vocab.vectors)\n",
    "    \n",
    "    #将填充的词向量清0\n",
    "    UNK_IDX = TEXT.vocab.stoi[TEXT.unk_token]\n",
    "    model.embedding.weight.data[UNK_IDX] = torch.zeros(EMBEDDING_DIM)\n",
    "    model.embedding.weight.data[PAD_IDX] = torch.zeros(EMBEDDING_DIM)\n",
    "    \n",
    "    ####################################\n",
    "    import torch.optim as optim\n",
    "   \n",
    "  \n",
    "    optimizer = optim.Adam(model.parameters(),lr=0.004)\n",
    "    \n",
    "    \n",
    "    criterion = nn.BCEWithLogitsLoss()  # 带有sigmoid 2分类的cross entropy\n",
    "    \n",
    "    \n",
    "    model = model.to(device)\n",
    "    criterion = criterion.to(device)\n",
    "    \n",
    "    \n",
    "    def binary_accuracy(preds, y):#计算准确率\n",
    "        rounded_preds = torch.round(torch.sigmoid(preds))#把概率的结果 四舍五入\n",
    "        correct = (rounded_preds == y).float() # True False -> 转为 1， 0\n",
    "        acc = correct.sum() / len(correct)\n",
    "        return acc\n",
    "    \n",
    "    \n",
    "    def train(model, iterator, optimizer, criterion):\n",
    "        \n",
    "        epoch_loss = 0\n",
    "        epoch_acc = 0\n",
    "        \n",
    "        model.train()  #设置模型标志  ，保证dropout在训练模式下\n",
    "        \n",
    "        for batch in iterator:\n",
    "            optimizer.zero_grad()\n",
    "            predictions = model(batch.text).squeeze(1)# 在第1个维度上 去除维度=1\n",
    "            loss = criterion(predictions, batch.label)\n",
    "            acc = binary_accuracy(predictions, batch.label)\n",
    "            loss.backward()\n",
    "            optimizer.step()\n",
    "            epoch_loss += loss.item()\n",
    "            epoch_acc += acc.item()\n",
    "        return epoch_loss / len(iterator), epoch_acc / len(iterator)\n",
    "    \n",
    "    \n",
    "    \n",
    "    def evaluate(model, iterator, criterion):\n",
    "        \n",
    "        epoch_loss = 0\n",
    "        epoch_acc = 0\n",
    "        \n",
    "        model.eval()\n",
    "        \n",
    "        with torch.no_grad():\n",
    "            for batch in iterator:\n",
    "                predictions = model(batch.text).squeeze(1)\n",
    "                loss = criterion(predictions, batch.label)\n",
    "                acc = binary_accuracy(predictions, batch.label)\n",
    "                epoch_loss += loss.item()\n",
    "                epoch_acc += acc.item()\n",
    "            \n",
    "        return epoch_loss / len(iterator), epoch_acc / len(iterator)\n",
    "    \n",
    "    \n",
    "    \n",
    "    def epoch_time(start_time, end_time):\n",
    "        elapsed_time = end_time - start_time\n",
    "        elapsed_mins = int(elapsed_time / 60)\n",
    "        elapsed_secs = int(elapsed_time - (elapsed_mins * 60))\n",
    "        return elapsed_mins, elapsed_secs\n",
    "    \n",
    "    \n",
    "    N_EPOCHS = 5\n",
    "    best_valid_loss = float('inf')\n",
    "    for epoch in range(N_EPOCHS):\n",
    "    \n",
    "        start_time = time.time()\n",
    "        train_loss, train_acc = train(model, train_iter, optimizer, criterion)\n",
    "        valid_loss, valid_acc = evaluate(model, valid_iter, criterion)\n",
    "        end_time = time.time()\n",
    "    \n",
    "        epoch_mins, epoch_secs = epoch_time(start_time, end_time)\n",
    "        \n",
    "        if valid_loss < best_valid_loss:#保存最优模型\n",
    "            best_valid_loss = valid_loss\n",
    "            torch.save(model.state_dict(), 'textcnn-model.pt')\n",
    "        \n",
    "        print(f'Epoch: {epoch+1:02} | Epoch Time: {epoch_mins}m {epoch_secs}s')\n",
    "        print(f'\\tTrain Loss: {train_loss:.3f} | Train Acc: {train_acc*100:.2f}%')\n",
    "        print(f'\\t Val. Loss: {valid_loss:.3f} |  Val. Acc: {valid_acc*100:.2f}%')\n",
    "    \n",
    "    \n",
    "    #测试模型效果\n",
    "    model.load_state_dict(torch.load('textcnn-model.pt'))\n",
    "    test_loss, test_acc = evaluate(model, test_iter, criterion)\n",
    "    print(f'Test Loss: {test_loss:.3f} | Test Acc: {test_acc*100:.2f}%')\n"
   ]
  },
  {
   "cell_type": "code",
   "execution_count": 18,
   "metadata": {},
   "outputs": [
    {
     "data": {
      "text/plain": [
       "'<pad>'"
      ]
     },
     "execution_count": 18,
     "metadata": {},
     "output_type": "execute_result"
    }
   ],
   "source": [
    "TEXT.pad_token"
   ]
  },
  {
   "cell_type": "code",
   "execution_count": 15,
   "metadata": {},
   "outputs": [
    {
     "ename": "OSError",
     "evalue": "[E050] Can't find model 'en'. It doesn't seem to be a shortcut link, a Python package or a valid path to a data directory.",
     "output_type": "error",
     "traceback": [
      "\u001b[1;31m---------------------------------------------------------------------------\u001b[0m",
      "\u001b[1;31mOSError\u001b[0m                                   Traceback (most recent call last)",
      "\u001b[1;32m~\\AppData\\Local\\Temp/ipykernel_9756/1656006402.py\u001b[0m in \u001b[0;36m<module>\u001b[1;34m\u001b[0m\n\u001b[0;32m      4\u001b[0m \u001b[1;31m#使用接口\u001b[0m\u001b[1;33m\u001b[0m\u001b[1;33m\u001b[0m\u001b[1;33m\u001b[0m\u001b[0m\n\u001b[0;32m      5\u001b[0m \u001b[1;33m\u001b[0m\u001b[0m\n\u001b[1;32m----> 6\u001b[1;33m \u001b[0mnlp\u001b[0m \u001b[1;33m=\u001b[0m \u001b[0mspacy\u001b[0m\u001b[1;33m.\u001b[0m\u001b[0mload\u001b[0m\u001b[1;33m(\u001b[0m\u001b[1;34m'en'\u001b[0m\u001b[1;33m)\u001b[0m\u001b[1;33m\u001b[0m\u001b[1;33m\u001b[0m\u001b[0m\n\u001b[0m\u001b[0;32m      7\u001b[0m \u001b[1;33m\u001b[0m\u001b[0m\n\u001b[0;32m      8\u001b[0m \u001b[1;32mdef\u001b[0m \u001b[0mpredict_sentiment\u001b[0m\u001b[1;33m(\u001b[0m\u001b[0mmodel\u001b[0m\u001b[1;33m,\u001b[0m \u001b[0msentence\u001b[0m\u001b[1;33m,\u001b[0m \u001b[0mmin_len\u001b[0m \u001b[1;33m=\u001b[0m \u001b[1;36m5\u001b[0m\u001b[1;33m)\u001b[0m\u001b[1;33m:\u001b[0m\u001b[1;33m\u001b[0m\u001b[1;33m\u001b[0m\u001b[0m\n",
      "\u001b[1;32mD:\\Anacnoda\\envs\\torch\\lib\\site-packages\\spacy\\__init__.py\u001b[0m in \u001b[0;36mload\u001b[1;34m(name, **overrides)\u001b[0m\n\u001b[0;32m     28\u001b[0m     \u001b[1;32mif\u001b[0m \u001b[0mdepr_path\u001b[0m \u001b[1;32mnot\u001b[0m \u001b[1;32min\u001b[0m \u001b[1;33m(\u001b[0m\u001b[1;32mTrue\u001b[0m\u001b[1;33m,\u001b[0m \u001b[1;32mFalse\u001b[0m\u001b[1;33m,\u001b[0m \u001b[1;32mNone\u001b[0m\u001b[1;33m)\u001b[0m\u001b[1;33m:\u001b[0m\u001b[1;33m\u001b[0m\u001b[1;33m\u001b[0m\u001b[0m\n\u001b[0;32m     29\u001b[0m         \u001b[0mwarnings\u001b[0m\u001b[1;33m.\u001b[0m\u001b[0mwarn\u001b[0m\u001b[1;33m(\u001b[0m\u001b[0mWarnings\u001b[0m\u001b[1;33m.\u001b[0m\u001b[0mW001\u001b[0m\u001b[1;33m.\u001b[0m\u001b[0mformat\u001b[0m\u001b[1;33m(\u001b[0m\u001b[0mpath\u001b[0m\u001b[1;33m=\u001b[0m\u001b[0mdepr_path\u001b[0m\u001b[1;33m)\u001b[0m\u001b[1;33m,\u001b[0m \u001b[0mDeprecationWarning\u001b[0m\u001b[1;33m)\u001b[0m\u001b[1;33m\u001b[0m\u001b[1;33m\u001b[0m\u001b[0m\n\u001b[1;32m---> 30\u001b[1;33m     \u001b[1;32mreturn\u001b[0m \u001b[0mutil\u001b[0m\u001b[1;33m.\u001b[0m\u001b[0mload_model\u001b[0m\u001b[1;33m(\u001b[0m\u001b[0mname\u001b[0m\u001b[1;33m,\u001b[0m \u001b[1;33m**\u001b[0m\u001b[0moverrides\u001b[0m\u001b[1;33m)\u001b[0m\u001b[1;33m\u001b[0m\u001b[1;33m\u001b[0m\u001b[0m\n\u001b[0m\u001b[0;32m     31\u001b[0m \u001b[1;33m\u001b[0m\u001b[0m\n\u001b[0;32m     32\u001b[0m \u001b[1;33m\u001b[0m\u001b[0m\n",
      "\u001b[1;32mD:\\Anacnoda\\envs\\torch\\lib\\site-packages\\spacy\\util.py\u001b[0m in \u001b[0;36mload_model\u001b[1;34m(name, **overrides)\u001b[0m\n\u001b[0;32m    173\u001b[0m     \u001b[1;32melif\u001b[0m \u001b[0mhasattr\u001b[0m\u001b[1;33m(\u001b[0m\u001b[0mname\u001b[0m\u001b[1;33m,\u001b[0m \u001b[1;34m\"exists\"\u001b[0m\u001b[1;33m)\u001b[0m\u001b[1;33m:\u001b[0m  \u001b[1;31m# Path or Path-like to model data\u001b[0m\u001b[1;33m\u001b[0m\u001b[1;33m\u001b[0m\u001b[0m\n\u001b[0;32m    174\u001b[0m         \u001b[1;32mreturn\u001b[0m \u001b[0mload_model_from_path\u001b[0m\u001b[1;33m(\u001b[0m\u001b[0mname\u001b[0m\u001b[1;33m,\u001b[0m \u001b[1;33m**\u001b[0m\u001b[0moverrides\u001b[0m\u001b[1;33m)\u001b[0m\u001b[1;33m\u001b[0m\u001b[1;33m\u001b[0m\u001b[0m\n\u001b[1;32m--> 175\u001b[1;33m     \u001b[1;32mraise\u001b[0m \u001b[0mIOError\u001b[0m\u001b[1;33m(\u001b[0m\u001b[0mErrors\u001b[0m\u001b[1;33m.\u001b[0m\u001b[0mE050\u001b[0m\u001b[1;33m.\u001b[0m\u001b[0mformat\u001b[0m\u001b[1;33m(\u001b[0m\u001b[0mname\u001b[0m\u001b[1;33m=\u001b[0m\u001b[0mname\u001b[0m\u001b[1;33m)\u001b[0m\u001b[1;33m)\u001b[0m\u001b[1;33m\u001b[0m\u001b[1;33m\u001b[0m\u001b[0m\n\u001b[0m\u001b[0;32m    176\u001b[0m \u001b[1;33m\u001b[0m\u001b[0m\n\u001b[0;32m    177\u001b[0m \u001b[1;33m\u001b[0m\u001b[0m\n",
      "\u001b[1;31mOSError\u001b[0m: [E050] Can't find model 'en'. It doesn't seem to be a shortcut link, a Python package or a valid path to a data directory."
     ]
    }
   ],
   "source": [
    "    import spacy\n",
    "    ##################################################\n",
    "    \n",
    "    #使用接口\n",
    "    \n",
    "    nlp = spacy.load('en')\n",
    "    \n",
    "    def predict_sentiment(model, sentence, min_len = 5):\n",
    "        model.eval()\n",
    "    #    tokenized = [tok.text for tok in nlp.tokenizer(sentence)]\n",
    "        tokenized = nlp.tokenizer(sentence).text.split() #\n",
    "        \n",
    "        if len(tokenized) < min_len: #长度不足，在后面填充\n",
    "            tokenized += ['<pad>'] * (min_len - len(tokenized))\n",
    "        indexed = [TEXT.vocab.stoi[t] for t in tokenized]\n",
    "        tensor = torch.LongTensor(indexed).to(device)\n",
    "        tensor = tensor.unsqueeze(1)\n",
    "        prediction = torch.sigmoid(model(tensor))\n",
    "        return prediction.item()\n",
    "    \n",
    "    sen = \"This film is terrible\"\n",
    "    print('\\n预测 sen = ', sen)\n",
    "    print('预测 结果:', predict_sentiment(model,sen))\n",
    "     \n",
    "    sen = \"This film is great\"\n",
    "    print('\\n预测 sen = ', sen)\n",
    "    print('预测 结果:', predict_sentiment(model,sen))\n",
    "     \n",
    "    sen = \"I like this film very much！\"\n",
    "    print('\\n预测 sen = ', sen)\n",
    "    print('预测 结果:', predict_sentiment(model,sen))"
   ]
  },
  {
   "cell_type": "code",
   "execution_count": null,
   "metadata": {},
   "outputs": [],
   "source": [
    "spacy"
   ]
  }
 ],
 "metadata": {
  "interpreter": {
   "hash": "79f39d06ccac4f0a6b3d11477479a3d7a8039e2bca6f83223d20136807394865"
  },
  "kernelspec": {
   "display_name": "Python 3.7.12 64-bit ('torch': conda)",
   "language": "python",
   "name": "python3"
  },
  "language_info": {
   "codemirror_mode": {
    "name": "ipython",
    "version": 3
   },
   "file_extension": ".py",
   "mimetype": "text/x-python",
   "name": "python",
   "nbconvert_exporter": "python",
   "pygments_lexer": "ipython3",
   "version": "3.7.12"
  },
  "orig_nbformat": 4
 },
 "nbformat": 4,
 "nbformat_minor": 2
}
